{
 "cells": [
  {
   "cell_type": "code",
   "execution_count": 1,
   "metadata": {},
   "outputs": [],
   "source": [
    "from main import OptionGreeks\n",
    "import numpy as np"
   ]
  },
  {
   "cell_type": "markdown",
   "metadata": {},
   "source": [
    "### Market Data -- S&P 500, March 11 2025"
   ]
  },
  {
   "cell_type": "code",
   "execution_count": 2,
   "metadata": {},
   "outputs": [],
   "source": [
    "# Time to maturity\n",
    "T = 1/12\n",
    "\n",
    "# Price of underlying\n",
    "S = 5604.83             \n",
    "\n",
    "# Volatility Surface\n",
    "vol_surface = {\n",
    "    \"moneyness\": np.array([80.0, 90.0, 95.0, 97.5, 100.0, 102.5, 105.0, 110.0, 120.0]),  # Moneyness values (%)\n",
    "    \"ttm\": [1/12, 2/12, 3/12, 6/12, 9/12, 1],  # Expiry periods in years\n",
    "    \"vol\": np.array([  # Volatility surface for each expiry\n",
    "        [43.82, 32.93, 28.46, 26.51, 24.27, 21.92, 19.80, 16.95, 23.11],  # 1M\n",
    "        [37.31, 28.89, 25.29, 23.56, 21.83, 20.05, 18.34, 15.64, 17.03],  # 2M\n",
    "        [33.90, 27.00, 23.98, 22.52, 21.01, 19.47, 17.94, 15.45, 14.48],  # 3M\n",
    "        [29.54, 24.65, 22.44, 21.32, 20.18, 18.99, 17.77, 15.54, 13.13],  # 6M\n",
    "        [27.39, 23.45, 21.65, 20.75, 19.83, 18.88, 17.89, 15.92, 13.19],  # 9M\n",
    "        [26.02, 22.72, 21.16, 20.38, 19.58, 18.76, 17.95, 16.24, 13.57]   # 1Y\n",
    "    ])\n",
    "}\n",
    "\n",
    "# Yield Curve (in years)\n",
    "yield_curve = {\n",
    "    0.25 / 12: 4.332, \n",
    "    0.5 / 12: 4.329, \n",
    "    0.75 / 12: 4.329, \n",
    "    1 / 12: 4.332, \n",
    "    2 / 12: 4.330, \n",
    "    3 / 12: 4.303,\n",
    "    4 / 12: 4.254, \n",
    "    5 / 12: 4.207, \n",
    "    6 / 12: 4.163, \n",
    "    9 / 12: 4.030, \n",
    "    12 / 12: 3.931\n",
    "}"
   ]
  },
  {
   "cell_type": "markdown",
   "metadata": {},
   "source": [
    "#### Call option with varying volatility "
   ]
  },
  {
   "cell_type": "code",
   "execution_count": null,
   "metadata": {},
   "outputs": [],
   "source": [
    "option_call_vol = OptionGreeks(S, yield_curve, T, option_type='call')\n",
    "option_call_vol.plot_greeks(variable='vol')"
   ]
  },
  {
   "cell_type": "markdown",
   "metadata": {},
   "source": [
    "#### Put option with varying volatility "
   ]
  },
  {
   "cell_type": "code",
   "execution_count": null,
   "metadata": {},
   "outputs": [],
   "source": [
    "option_put_vol = OptionGreeks(S, yield_curve, T, option_type='put')\n",
    "option_put_vol.plot_greeks(variable='vol')"
   ]
  },
  {
   "cell_type": "markdown",
   "metadata": {},
   "source": [
    "#### Call option with varying time to maturity "
   ]
  },
  {
   "cell_type": "code",
   "execution_count": null,
   "metadata": {},
   "outputs": [],
   "source": [
    "# Call option with time to expiry varying\n",
    "option_call_time = OptionGreeks(S, yield_curve, T, option_type='call', vol_surface=vol_surface)\n",
    "option_call_time.plot_greeks(variable='ttm')"
   ]
  },
  {
   "cell_type": "markdown",
   "metadata": {},
   "source": [
    "#### Put option with varying time to maturity "
   ]
  },
  {
   "cell_type": "code",
   "execution_count": null,
   "metadata": {},
   "outputs": [],
   "source": [
    "# Put option with time to expiry varying\n",
    "option_put_time = OptionGreeks(S, yield_curve, T, option_type='put', vol_surface=vol_surface)\n",
    "option_put_time.plot_greeks(variable='ttm')"
   ]
  }
 ],
 "metadata": {
  "kernelspec": {
   "display_name": "greeks",
   "language": "python",
   "name": "python3"
  },
  "language_info": {
   "codemirror_mode": {
    "name": "ipython",
    "version": 3
   },
   "file_extension": ".py",
   "mimetype": "text/x-python",
   "name": "python",
   "nbconvert_exporter": "python",
   "pygments_lexer": "ipython3",
   "version": "3.13.2"
  }
 },
 "nbformat": 4,
 "nbformat_minor": 2
}
